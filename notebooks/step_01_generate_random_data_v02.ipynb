{
 "cells": [
  {
   "cell_type": "code",
   "execution_count": 82,
   "metadata": {},
   "outputs": [],
   "source": [
    "import os\n",
    "os.chdir('/workspaces/walker')\n",
    "import numpy as np\n",
    "import pandas as pd\n",
    "import seaborn as sns"
   ]
  },
  {
   "cell_type": "code",
   "execution_count": 83,
   "metadata": {},
   "outputs": [],
   "source": [
    "# generate random data\n",
    "nrows = 100000\n",
    "raw_df = pd.concat([\n",
    "    pd.DataFrame({\n",
    "        'segment': np.random.choice(['A'], size=nrows),\n",
    "        'time': np.random.choice(['01-Jan'], size=nrows),\n",
    "        'outcome': np.random.choice([0, 1], size=nrows),\n",
    "    }),\n",
    "    pd.DataFrame({\n",
    "        'segment': np.random.choice(['B'], size=nrows),\n",
    "        'time': np.random.choice(['01-Jan'], size=nrows),\n",
    "        'outcome': np.random.choice([0, 1], size=nrows),\n",
    "    }),\n",
    "    pd.DataFrame({\n",
    "        'segment': np.random.choice(['A'], size=nrows * 3),\n",
    "        'time': np.random.choice(['02-Feb'], size=nrows * 3),\n",
    "        'outcome': np.random.choice([0, 1, 1, 1], size=nrows * 3),\n",
    "    }),\n",
    "    pd.DataFrame({\n",
    "        'segment': np.random.choice(['B'], size=nrows),\n",
    "        'time': np.random.choice(['02-Feb'], size=nrows),\n",
    "        'outcome': np.random.choice([0, 1, 1, 1, 1, 1, 1, 1, 1, 1, 1, 1, 1], size=nrows),\n",
    "    }),\n",
    "])"
   ]
  },
  {
   "cell_type": "code",
   "execution_count": 84,
   "metadata": {},
   "outputs": [
    {
     "data": {
      "text/html": [
       "<div>\n",
       "<style scoped>\n",
       "    .dataframe tbody tr th:only-of-type {\n",
       "        vertical-align: middle;\n",
       "    }\n",
       "\n",
       "    .dataframe tbody tr th {\n",
       "        vertical-align: top;\n",
       "    }\n",
       "\n",
       "    .dataframe thead th {\n",
       "        text-align: right;\n",
       "    }\n",
       "</style>\n",
       "<table border=\"1\" class=\"dataframe\">\n",
       "  <thead>\n",
       "    <tr style=\"text-align: right;\">\n",
       "      <th></th>\n",
       "      <th>segment</th>\n",
       "      <th>time</th>\n",
       "      <th>count</th>\n",
       "      <th>performance</th>\n",
       "    </tr>\n",
       "  </thead>\n",
       "  <tbody>\n",
       "    <tr>\n",
       "      <th>0</th>\n",
       "      <td>A</td>\n",
       "      <td>01-Jan</td>\n",
       "      <td>100000</td>\n",
       "      <td>0.498690</td>\n",
       "    </tr>\n",
       "    <tr>\n",
       "      <th>1</th>\n",
       "      <td>A</td>\n",
       "      <td>02-Feb</td>\n",
       "      <td>300000</td>\n",
       "      <td>0.750133</td>\n",
       "    </tr>\n",
       "    <tr>\n",
       "      <th>2</th>\n",
       "      <td>B</td>\n",
       "      <td>01-Jan</td>\n",
       "      <td>100000</td>\n",
       "      <td>0.499380</td>\n",
       "    </tr>\n",
       "    <tr>\n",
       "      <th>3</th>\n",
       "      <td>B</td>\n",
       "      <td>02-Feb</td>\n",
       "      <td>100000</td>\n",
       "      <td>0.923820</td>\n",
       "    </tr>\n",
       "  </tbody>\n",
       "</table>\n",
       "</div>"
      ],
      "text/plain": [
       "  segment    time   count  performance\n",
       "0       A  01-Jan  100000     0.498690\n",
       "1       A  02-Feb  300000     0.750133\n",
       "2       B  01-Jan  100000     0.499380\n",
       "3       B  02-Feb  100000     0.923820"
      ]
     },
     "execution_count": 84,
     "metadata": {},
     "output_type": "execute_result"
    }
   ],
   "source": [
    "aggs = raw_df \\\n",
    "    .groupby(['segment', 'time'], as_index=False) \\\n",
    "    .agg(\n",
    "        count=('outcome', 'count'),\n",
    "        performance=('outcome', 'mean')\n",
    "    )\n",
    "aggs"
   ]
  },
  {
   "cell_type": "code",
   "execution_count": 85,
   "metadata": {},
   "outputs": [
    {
     "data": {
      "text/html": [
       "<div>\n",
       "<style scoped>\n",
       "    .dataframe tbody tr th:only-of-type {\n",
       "        vertical-align: middle;\n",
       "    }\n",
       "\n",
       "    .dataframe tbody tr th {\n",
       "        vertical-align: top;\n",
       "    }\n",
       "\n",
       "    .dataframe thead th {\n",
       "        text-align: right;\n",
       "    }\n",
       "</style>\n",
       "<table border=\"1\" class=\"dataframe\">\n",
       "  <thead>\n",
       "    <tr style=\"text-align: right;\">\n",
       "      <th></th>\n",
       "      <th>segment</th>\n",
       "      <th>count|01-Jan</th>\n",
       "      <th>count|02-Feb</th>\n",
       "      <th>performance|01-Jan</th>\n",
       "      <th>performance|02-Feb</th>\n",
       "    </tr>\n",
       "  </thead>\n",
       "  <tbody>\n",
       "    <tr>\n",
       "      <th>0</th>\n",
       "      <td>A</td>\n",
       "      <td>100000.0</td>\n",
       "      <td>300000.0</td>\n",
       "      <td>0.49869</td>\n",
       "      <td>0.750133</td>\n",
       "    </tr>\n",
       "    <tr>\n",
       "      <th>1</th>\n",
       "      <td>B</td>\n",
       "      <td>100000.0</td>\n",
       "      <td>100000.0</td>\n",
       "      <td>0.49938</td>\n",
       "      <td>0.923820</td>\n",
       "    </tr>\n",
       "  </tbody>\n",
       "</table>\n",
       "</div>"
      ],
      "text/plain": [
       "  segment  count|01-Jan  count|02-Feb  performance|01-Jan  performance|02-Feb\n",
       "0       A      100000.0      300000.0             0.49869            0.750133\n",
       "1       B      100000.0      100000.0             0.49938            0.923820"
      ]
     },
     "execution_count": 85,
     "metadata": {},
     "output_type": "execute_result"
    }
   ],
   "source": [
    "pivot = aggs.pivot(\n",
    "    index='segment',\n",
    "    columns='time',\n",
    "    values=['count', 'performance']\n",
    ")\n",
    "pivot.columns = ['|'.join(col).strip() for col in pivot.columns.values]\n",
    "pivot = pivot.reset_index()\n",
    "pivot"
   ]
  },
  {
   "cell_type": "code",
   "execution_count": 86,
   "metadata": {},
   "outputs": [],
   "source": [
    "segments = np.sort(raw_df['segment'].unique()).tolist()\n",
    "times = np.sort(raw_df['time'].unique()).tolist()"
   ]
  },
  {
   "cell_type": "code",
   "execution_count": 87,
   "metadata": {},
   "outputs": [],
   "source": [
    "# calculate total counts\n",
    "total_p0 = pivot[f'count|{times[0]}'].sum()\n",
    "total_p1 = pivot[f'count|{times[1]}'].sum()"
   ]
  },
  {
   "cell_type": "code",
   "execution_count": 88,
   "metadata": {},
   "outputs": [],
   "source": [
    "# convert counts to proportions\n",
    "pivot[f'proportion|{times[0]}'] = pivot[f'count|{times[0]}'] / total_p0\n",
    "pivot[f'proportion|{times[1]}'] = pivot[f'count|{times[1]}'] / total_p1"
   ]
  },
  {
   "cell_type": "code",
   "execution_count": 89,
   "metadata": {},
   "outputs": [],
   "source": [
    "# calculate changes and averages\n",
    "pivot['change_proportion'] = pivot[f'proportion|{times[1]}'] - pivot[f'proportion|{times[0]}']\n",
    "pivot['change_performance'] = pivot[f'performance|{times[1]}'] - pivot[f'performance|{times[0]}']\n",
    "pivot['average_proportion'] = (pivot[f'proportion|{times[0]}'] + pivot[f'proportion|{times[1]}']) / 2\n",
    "pivot['average_performance'] = (pivot[f'performance|{times[0]}'] + pivot[f'performance|{times[1]}']) / 2"
   ]
  },
  {
   "cell_type": "code",
   "execution_count": 90,
   "metadata": {},
   "outputs": [],
   "source": [
    "# overall performance at each time point\n",
    "overall_performance_0 = (pivot[f'proportion|{times[0]}'] * pivot[f'performance|{times[0]}']).sum()\n",
    "overall_performance_1 = (pivot[f'proportion|{times[1]}'] * pivot[f'performance|{times[1]}']).sum()\n",
    "overall_performance_change = overall_performance_1 - overall_performance_0"
   ]
  },
  {
   "cell_type": "code",
   "execution_count": 91,
   "metadata": {},
   "outputs": [],
   "source": [
    "# decomposition of total change\n",
    "pivot['between_group_contribution'] = pivot[f'performance|{times[0]}'] * pivot['change_proportion']\n",
    "pivot['within_group_contribution'] = pivot[f'proportion|{times[1]}'] * pivot['change_performance']\n",
    "within_group_contribution = pivot['within_group_contribution'].sum()\n",
    "between_group_contribution = pivot['between_group_contribution'].sum()"
   ]
  },
  {
   "cell_type": "code",
   "execution_count": 92,
   "metadata": {},
   "outputs": [],
   "source": [
    "# sum up the effects\n",
    "within_group_contribution = pivot['within_group_contribution'].sum()\n",
    "between_group_contribution = pivot['between_group_contribution'].sum()\n",
    "total_contribution = within_group_contribution + between_group_contribution\n"
   ]
  },
  {
   "cell_type": "code",
   "execution_count": 93,
   "metadata": {},
   "outputs": [
    {
     "data": {
      "text/html": [
       "<div>\n",
       "<style scoped>\n",
       "    .dataframe tbody tr th:only-of-type {\n",
       "        vertical-align: middle;\n",
       "    }\n",
       "\n",
       "    .dataframe tbody tr th {\n",
       "        vertical-align: top;\n",
       "    }\n",
       "\n",
       "    .dataframe thead th {\n",
       "        text-align: right;\n",
       "    }\n",
       "</style>\n",
       "<table border=\"1\" class=\"dataframe\">\n",
       "  <thead>\n",
       "    <tr style=\"text-align: right;\">\n",
       "      <th></th>\n",
       "      <th>segment</th>\n",
       "      <th>count|01-Jan</th>\n",
       "      <th>proportion|01-Jan</th>\n",
       "      <th>count|02-Feb</th>\n",
       "      <th>proportion|02-Feb</th>\n",
       "      <th>change_proportion</th>\n",
       "      <th>performance|01-Jan</th>\n",
       "      <th>performance|02-Feb</th>\n",
       "      <th>change_performance</th>\n",
       "      <th>within_group_contribution</th>\n",
       "      <th>between_group_contribution</th>\n",
       "      <th>total_contribution</th>\n",
       "      <th>within_group_contribution_pct</th>\n",
       "      <th>between_group_contribution_pct</th>\n",
       "      <th>total_contribution_pct</th>\n",
       "    </tr>\n",
       "  </thead>\n",
       "  <tbody>\n",
       "    <tr>\n",
       "      <th>0</th>\n",
       "      <td>A</td>\n",
       "      <td>100000.0</td>\n",
       "      <td>0.5</td>\n",
       "      <td>300000.0</td>\n",
       "      <td>0.75</td>\n",
       "      <td>0.25</td>\n",
       "      <td>0.498690</td>\n",
       "      <td>0.750133</td>\n",
       "      <td>0.251443</td>\n",
       "      <td>0.188582</td>\n",
       "      <td>0.124673</td>\n",
       "      <td>0.313255</td>\n",
       "      <td>0.640305</td>\n",
       "      <td>0.423307</td>\n",
       "      <td>1.063612</td>\n",
       "    </tr>\n",
       "    <tr>\n",
       "      <th>1</th>\n",
       "      <td>B</td>\n",
       "      <td>100000.0</td>\n",
       "      <td>0.5</td>\n",
       "      <td>100000.0</td>\n",
       "      <td>0.25</td>\n",
       "      <td>-0.25</td>\n",
       "      <td>0.499380</td>\n",
       "      <td>0.923820</td>\n",
       "      <td>0.424440</td>\n",
       "      <td>0.106110</td>\n",
       "      <td>-0.124845</td>\n",
       "      <td>-0.018735</td>\n",
       "      <td>0.360281</td>\n",
       "      <td>-0.423893</td>\n",
       "      <td>-0.063612</td>\n",
       "    </tr>\n",
       "    <tr>\n",
       "      <th>2</th>\n",
       "      <td>Total</td>\n",
       "      <td>200000.0</td>\n",
       "      <td>1.0</td>\n",
       "      <td>400000.0</td>\n",
       "      <td>1.00</td>\n",
       "      <td>NaN</td>\n",
       "      <td>0.499035</td>\n",
       "      <td>0.793555</td>\n",
       "      <td>0.294520</td>\n",
       "      <td>0.294692</td>\n",
       "      <td>-0.000172</td>\n",
       "      <td>0.294520</td>\n",
       "      <td>1.000586</td>\n",
       "      <td>-0.000586</td>\n",
       "      <td>1.000000</td>\n",
       "    </tr>\n",
       "  </tbody>\n",
       "</table>\n",
       "</div>"
      ],
      "text/plain": [
       "  segment  count|01-Jan  proportion|01-Jan  count|02-Feb  proportion|02-Feb  \\\n",
       "0       A      100000.0                0.5      300000.0               0.75   \n",
       "1       B      100000.0                0.5      100000.0               0.25   \n",
       "2   Total      200000.0                1.0      400000.0               1.00   \n",
       "\n",
       "   change_proportion  performance|01-Jan  performance|02-Feb  \\\n",
       "0               0.25            0.498690            0.750133   \n",
       "1              -0.25            0.499380            0.923820   \n",
       "2                NaN            0.499035            0.793555   \n",
       "\n",
       "   change_performance  within_group_contribution  between_group_contribution  \\\n",
       "0            0.251443                   0.188582                    0.124673   \n",
       "1            0.424440                   0.106110                   -0.124845   \n",
       "2            0.294520                   0.294692                   -0.000172   \n",
       "\n",
       "   total_contribution  within_group_contribution_pct  \\\n",
       "0            0.313255                       0.640305   \n",
       "1           -0.018735                       0.360281   \n",
       "2            0.294520                       1.000586   \n",
       "\n",
       "   between_group_contribution_pct  total_contribution_pct  \n",
       "0                        0.423307                1.063612  \n",
       "1                       -0.423893               -0.063612  \n",
       "2                       -0.000586                1.000000  "
      ]
     },
     "execution_count": 93,
     "metadata": {},
     "output_type": "execute_result"
    }
   ],
   "source": [
    "pretty_results = pd.concat([\n",
    "    pivot.loc[:, [\n",
    "        'segment',\n",
    "        f'count|{times[0]}',\n",
    "        f'proportion|{times[0]}',\n",
    "        f'count|{times[1]}',\n",
    "        f'proportion|{times[1]}',\n",
    "        'change_proportion',\n",
    "\n",
    "        f'performance|{times[0]}',\n",
    "        f'performance|{times[1]}',\n",
    "        'change_performance',\n",
    "\n",
    "        'within_group_contribution',\n",
    "        'between_group_contribution',\n",
    "    ]],\n",
    "    pd.DataFrame({\n",
    "        'segment': 'Total',\n",
    "        f'count|{times[0]}': total_p0,\n",
    "        f'proportion|{times[0]}': 1,\n",
    "        f'count|{times[1]}': total_p1,\n",
    "        f'proportion|{times[1]}': 1,\n",
    "        'change_proportion': np.nan,\n",
    "\n",
    "        f'performance|{times[0]}': overall_performance_0,\n",
    "        f'performance|{times[1]}': overall_performance_1,\n",
    "        'change_performance': overall_performance_change,\n",
    "\n",
    "        'within_group_contribution': within_group_contribution,\n",
    "        'between_group_contribution': between_group_contribution,\n",
    "    }, index=[len(segments)])\n",
    "])\n",
    "pretty_results['total_contribution'] = pretty_results['within_group_contribution'] + pretty_results['between_group_contribution']\n",
    "for col in ['within_group_contribution', 'between_group_contribution', 'total_contribution']:\n",
    "    pretty_results[col+'_pct'] = pretty_results[col] / total_contribution\n",
    "pretty_results"
   ]
  },
  {
   "cell_type": "markdown",
   "metadata": {},
   "source": [
    "# Proportion Change"
   ]
  },
  {
   "cell_type": "code",
   "execution_count": 94,
   "metadata": {},
   "outputs": [
    {
     "data": {
      "text/plain": [
       "<Axes: xlabel='segment', ylabel='count'>"
      ]
     },
     "execution_count": 94,
     "metadata": {},
     "output_type": "execute_result"
    },
    {
     "data": {
      "image/png": "[encoded data removed]",
      "text/plain": [
       "<Figure size 640x480 with 1 Axes>"
      ]
     },
     "metadata": {},
     "output_type": "display_data"
    }
   ],
   "source": [
    "sns.set_palette(sns.color_palette(\"mako\", 2))\n",
    "sns.barplot(aggs, x=\"segment\", y=\"count\", hue=\"time\", gap=0.05)"
   ]
  },
  {
   "cell_type": "code",
   "execution_count": 95,
   "metadata": {},
   "outputs": [
    {
     "data": {
      "text/html": [
       "<div>\n",
       "<style scoped>\n",
       "    .dataframe tbody tr th:only-of-type {\n",
       "        vertical-align: middle;\n",
       "    }\n",
       "\n",
       "    .dataframe tbody tr th {\n",
       "        vertical-align: top;\n",
       "    }\n",
       "\n",
       "    .dataframe thead th {\n",
       "        text-align: right;\n",
       "    }\n",
       "</style>\n",
       "<table border=\"1\" class=\"dataframe\">\n",
       "  <thead>\n",
       "    <tr style=\"text-align: right;\">\n",
       "      <th></th>\n",
       "      <th>segment</th>\n",
       "      <th>count|01-Jan</th>\n",
       "      <th>proportion|01-Jan</th>\n",
       "      <th>count|02-Feb</th>\n",
       "      <th>proportion|02-Feb</th>\n",
       "      <th>change_proportion</th>\n",
       "      <th>between_group_contribution</th>\n",
       "      <th>between_group_contribution_pct</th>\n",
       "    </tr>\n",
       "  </thead>\n",
       "  <tbody>\n",
       "    <tr>\n",
       "      <th>0</th>\n",
       "      <td>A</td>\n",
       "      <td>100000.0</td>\n",
       "      <td>0.5</td>\n",
       "      <td>300000.0</td>\n",
       "      <td>0.75</td>\n",
       "      <td>0.25</td>\n",
       "      <td>0.124673</td>\n",
       "      <td>0.423307</td>\n",
       "    </tr>\n",
       "    <tr>\n",
       "      <th>1</th>\n",
       "      <td>B</td>\n",
       "      <td>100000.0</td>\n",
       "      <td>0.5</td>\n",
       "      <td>100000.0</td>\n",
       "      <td>0.25</td>\n",
       "      <td>-0.25</td>\n",
       "      <td>-0.124845</td>\n",
       "      <td>-0.423893</td>\n",
       "    </tr>\n",
       "    <tr>\n",
       "      <th>2</th>\n",
       "      <td>Total</td>\n",
       "      <td>200000.0</td>\n",
       "      <td>1.0</td>\n",
       "      <td>400000.0</td>\n",
       "      <td>1.00</td>\n",
       "      <td>NaN</td>\n",
       "      <td>-0.000172</td>\n",
       "      <td>-0.000586</td>\n",
       "    </tr>\n",
       "  </tbody>\n",
       "</table>\n",
       "</div>"
      ],
      "text/plain": [
       "  segment  count|01-Jan  proportion|01-Jan  count|02-Feb  proportion|02-Feb  \\\n",
       "0       A      100000.0                0.5      300000.0               0.75   \n",
       "1       B      100000.0                0.5      100000.0               0.25   \n",
       "2   Total      200000.0                1.0      400000.0               1.00   \n",
       "\n",
       "   change_proportion  between_group_contribution  \\\n",
       "0               0.25                    0.124673   \n",
       "1              -0.25                   -0.124845   \n",
       "2                NaN                   -0.000172   \n",
       "\n",
       "   between_group_contribution_pct  \n",
       "0                        0.423307  \n",
       "1                       -0.423893  \n",
       "2                       -0.000586  "
      ]
     },
     "execution_count": 95,
     "metadata": {},
     "output_type": "execute_result"
    }
   ],
   "source": [
    "pretty_results_proportion = pretty_results.loc[:, [\n",
    "    'segment',\n",
    "    f'count|{times[0]}',\n",
    "    f'proportion|{times[0]}',\n",
    "    f'count|{times[1]}',\n",
    "    f'proportion|{times[1]}',\n",
    "    'change_proportion',\n",
    "    'between_group_contribution',\n",
    "    'between_group_contribution_pct',\n",
    "]]\n",
    "pretty_results_proportion"
   ]
  },
  {
   "cell_type": "markdown",
   "metadata": {},
   "source": [
    "# Performance Change"
   ]
  },
  {
   "cell_type": "code",
   "execution_count": 96,
   "metadata": {},
   "outputs": [
    {
     "data": {
      "text/plain": [
       "<Axes: xlabel='segment', ylabel='performance'>"
      ]
     },
     "execution_count": 96,
     "metadata": {},
     "output_type": "execute_result"
    },
    {
     "data": {
      "image/png": "[encoded data removed]",
      "text/plain": [
       "<Figure size 640x480 with 1 Axes>"
      ]
     },
     "metadata": {},
     "output_type": "display_data"
    }
   ],
   "source": [
    "sns.set_palette(sns.color_palette(\"mako\", 2))\n",
    "sns.barplot(aggs, x=\"segment\", y=\"performance\", hue=\"time\", gap=0.05)"
   ]
  },
  {
   "cell_type": "markdown",
   "metadata": {},
   "source": [
    "# Absolute Contributions"
   ]
  },
  {
   "cell_type": "code",
   "execution_count": 107,
   "metadata": {},
   "outputs": [
    {
     "data": {
      "text/html": [
       "<div>\n",
       "<style scoped>\n",
       "    .dataframe tbody tr th:only-of-type {\n",
       "        vertical-align: middle;\n",
       "    }\n",
       "\n",
       "    .dataframe tbody tr th {\n",
       "        vertical-align: top;\n",
       "    }\n",
       "\n",
       "    .dataframe thead th {\n",
       "        text-align: right;\n",
       "    }\n",
       "</style>\n",
       "<table border=\"1\" class=\"dataframe\">\n",
       "  <thead>\n",
       "    <tr style=\"text-align: right;\">\n",
       "      <th></th>\n",
       "      <th>segment</th>\n",
       "      <th>within_group_contribution</th>\n",
       "      <th>between_group_contribution</th>\n",
       "      <th>total_contribution</th>\n",
       "    </tr>\n",
       "  </thead>\n",
       "  <tbody>\n",
       "    <tr>\n",
       "      <th>0</th>\n",
       "      <td>A</td>\n",
       "      <td>0.346525</td>\n",
       "      <td>0.229089</td>\n",
       "      <td>0.575614</td>\n",
       "    </tr>\n",
       "    <tr>\n",
       "      <th>1</th>\n",
       "      <td>B</td>\n",
       "      <td>0.194980</td>\n",
       "      <td>0.229406</td>\n",
       "      <td>0.424386</td>\n",
       "    </tr>\n",
       "  </tbody>\n",
       "</table>\n",
       "</div>"
      ],
      "text/plain": [
       "  segment  within_group_contribution  between_group_contribution  \\\n",
       "0       A                   0.346525                    0.229089   \n",
       "1       B                   0.194980                    0.229406   \n",
       "\n",
       "   total_contribution  \n",
       "0            0.575614  \n",
       "1            0.424386  "
      ]
     },
     "execution_count": 107,
     "metadata": {},
     "output_type": "execute_result"
    }
   ],
   "source": [
    "pretty_results_condensed = pretty_results.loc[pretty_results['segment'].isin(segments), [\n",
    "    'segment',\n",
    "    'within_group_contribution',\n",
    "    'between_group_contribution',\n",
    "]]\n",
    "pretty_results_condensed['within_group_contribution'] = pretty_results_condensed['within_group_contribution'].abs()\n",
    "pretty_results_condensed['between_group_contribution'] = pretty_results_condensed['between_group_contribution'].abs()\n",
    "total_absolute_contribution = pretty_results_condensed['within_group_contribution'].sum() + pretty_results_condensed['between_group_contribution'].sum()\n",
    "pretty_results_condensed['within_group_contribution'] = pretty_results_condensed['within_group_contribution'] / total_absolute_contribution\n",
    "pretty_results_condensed['between_group_contribution'] = pretty_results_condensed['between_group_contribution'] / total_absolute_contribution\n",
    "pretty_results_condensed['total_contribution'] = pretty_results_condensed['within_group_contribution'] + pretty_results_condensed['between_group_contribution']\n",
    "pretty_results_condensed"
   ]
  },
  {
   "cell_type": "code",
   "execution_count": 114,
   "metadata": {},
   "outputs": [
    {
     "data": {
      "text/plain": [
       "<Axes: xlabel='segment', ylabel='contribution'>"
      ]
     },
     "execution_count": 114,
     "metadata": {},
     "output_type": "execute_result"
    },
    {
     "data": {
      "image/png": "[encoded data removed]",
      "text/plain": [
       "<Figure size 640x480 with 1 Axes>"
      ]
     },
     "metadata": {},
     "output_type": "display_data"
    }
   ],
   "source": [
    "sns.set_palette(sns.color_palette(\"mako\", 3))\n",
    "sns.barplot(pretty_results_condensed.melt(id_vars='segment', var_name='contribution_type', value_name='contribution'), \n",
    "            x=\"segment\", y=\"contribution\", hue=\"contribution_type\", gap=0.05)"
   ]
  },
  {
   "cell_type": "code",
   "execution_count": null,
   "metadata": {},
   "outputs": [],
   "source": []
  }
 ],
 "metadata": {
  "kernelspec": {
   "display_name": "Python 3",
   "language": "python",
   "name": "python3"
  },
  "language_info": {
   "codemirror_mode": {
    "name": "ipython",
    "version": 3
   },
   "file_extension": ".py",
   "mimetype": "text/x-python",
   "name": "python",
   "nbconvert_exporter": "python",
   "pygments_lexer": "ipython3",
   "version": "3.12.7"
  }
 },
 "nbformat": 4,
 "nbformat_minor": 2
}
